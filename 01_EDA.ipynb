{
 "cells": [
  {
   "cell_type": "code",
   "execution_count": 1,
   "id": "8f621ddd",
   "metadata": {},
   "outputs": [],
   "source": [
    "import pandas as pd"
   ]
  },
  {
   "cell_type": "code",
   "execution_count": 6,
   "id": "7d0d412b",
   "metadata": {},
   "outputs": [
    {
     "data": {
      "text/html": [
       "<div>\n",
       "<style scoped>\n",
       "    .dataframe tbody tr th:only-of-type {\n",
       "        vertical-align: middle;\n",
       "    }\n",
       "\n",
       "    .dataframe tbody tr th {\n",
       "        vertical-align: top;\n",
       "    }\n",
       "\n",
       "    .dataframe thead th {\n",
       "        text-align: right;\n",
       "    }\n",
       "</style>\n",
       "<table border=\"1\" class=\"dataframe\">\n",
       "  <thead>\n",
       "    <tr style=\"text-align: right;\">\n",
       "      <th></th>\n",
       "      <th>word</th>\n",
       "      <th>stress</th>\n",
       "      <th>num_syllables</th>\n",
       "      <th>lemma</th>\n",
       "    </tr>\n",
       "    <tr>\n",
       "      <th>id</th>\n",
       "      <th></th>\n",
       "      <th></th>\n",
       "      <th></th>\n",
       "      <th></th>\n",
       "    </tr>\n",
       "  </thead>\n",
       "  <tbody>\n",
       "    <tr>\n",
       "      <th>0</th>\n",
       "      <td>румяной</td>\n",
       "      <td>2</td>\n",
       "      <td>3</td>\n",
       "      <td>румяный</td>\n",
       "    </tr>\n",
       "    <tr>\n",
       "      <th>1</th>\n",
       "      <td>цифрами</td>\n",
       "      <td>1</td>\n",
       "      <td>3</td>\n",
       "      <td>цифра</td>\n",
       "    </tr>\n",
       "    <tr>\n",
       "      <th>2</th>\n",
       "      <td>слугами</td>\n",
       "      <td>1</td>\n",
       "      <td>3</td>\n",
       "      <td>слуга</td>\n",
       "    </tr>\n",
       "    <tr>\n",
       "      <th>3</th>\n",
       "      <td>выбирает</td>\n",
       "      <td>3</td>\n",
       "      <td>4</td>\n",
       "      <td>выбирать</td>\n",
       "    </tr>\n",
       "    <tr>\n",
       "      <th>4</th>\n",
       "      <td>управдом</td>\n",
       "      <td>3</td>\n",
       "      <td>3</td>\n",
       "      <td>управдом</td>\n",
       "    </tr>\n",
       "    <tr>\n",
       "      <th>...</th>\n",
       "      <td>...</td>\n",
       "      <td>...</td>\n",
       "      <td>...</td>\n",
       "      <td>...</td>\n",
       "    </tr>\n",
       "    <tr>\n",
       "      <th>63433</th>\n",
       "      <td>экзамена</td>\n",
       "      <td>2</td>\n",
       "      <td>4</td>\n",
       "      <td>экзамен</td>\n",
       "    </tr>\n",
       "    <tr>\n",
       "      <th>63434</th>\n",
       "      <td>культурой</td>\n",
       "      <td>2</td>\n",
       "      <td>3</td>\n",
       "      <td>культура</td>\n",
       "    </tr>\n",
       "    <tr>\n",
       "      <th>63435</th>\n",
       "      <td>объемной</td>\n",
       "      <td>2</td>\n",
       "      <td>3</td>\n",
       "      <td>объемный</td>\n",
       "    </tr>\n",
       "    <tr>\n",
       "      <th>63436</th>\n",
       "      <td>участком</td>\n",
       "      <td>2</td>\n",
       "      <td>3</td>\n",
       "      <td>участок</td>\n",
       "    </tr>\n",
       "    <tr>\n",
       "      <th>63437</th>\n",
       "      <td>ташкента</td>\n",
       "      <td>2</td>\n",
       "      <td>3</td>\n",
       "      <td>ташкент</td>\n",
       "    </tr>\n",
       "  </tbody>\n",
       "</table>\n",
       "<p>63438 rows × 4 columns</p>\n",
       "</div>"
      ],
      "text/plain": [
       "            word  stress  num_syllables     lemma\n",
       "id                                               \n",
       "0        румяной       2              3   румяный\n",
       "1        цифрами       1              3     цифра\n",
       "2        слугами       1              3     слуга\n",
       "3       выбирает       3              4  выбирать\n",
       "4       управдом       3              3  управдом\n",
       "...          ...     ...            ...       ...\n",
       "63433   экзамена       2              4   экзамен\n",
       "63434  культурой       2              3  культура\n",
       "63435   объемной       2              3  объемный\n",
       "63436   участком       2              3   участок\n",
       "63437   ташкента       2              3   ташкент\n",
       "\n",
       "[63438 rows x 4 columns]"
      ]
     },
     "execution_count": 6,
     "metadata": {},
     "output_type": "execute_result"
    }
   ],
   "source": [
    "df = pd.read_csv('train.csv', index_col='id'); df"
   ]
  },
  {
   "cell_type": "code",
   "execution_count": 7,
   "id": "2ffa3f0d",
   "metadata": {},
   "outputs": [
    {
     "data": {
      "text/plain": [
       "word             0\n",
       "stress           0\n",
       "num_syllables    0\n",
       "lemma            0\n",
       "dtype: int64"
      ]
     },
     "execution_count": 7,
     "metadata": {},
     "output_type": "execute_result"
    }
   ],
   "source": [
    "df.isna().sum()"
   ]
  },
  {
   "cell_type": "markdown",
   "id": "fc91e2ee",
   "metadata": {},
   "source": [
    "### Набор символов"
   ]
  },
  {
   "cell_type": "code",
   "execution_count": 44,
   "id": "1efd9d69",
   "metadata": {},
   "outputs": [],
   "source": [
    "def add_char(word):\n",
    "    global alphabeth\n",
    "    alphabeth = alphabeth.union(set(list(word)))"
   ]
  },
  {
   "cell_type": "code",
   "execution_count": 17,
   "id": "ed4ac23a",
   "metadata": {},
   "outputs": [],
   "source": [
    "alphabeth = set()"
   ]
  },
  {
   "cell_type": "code",
   "execution_count": 47,
   "id": "97798243",
   "metadata": {
    "scrolled": true
   },
   "outputs": [
    {
     "data": {
      "text/plain": [
       "id\n",
       "0        None\n",
       "1        None\n",
       "2        None\n",
       "3        None\n",
       "4        None\n",
       "         ... \n",
       "63433    None\n",
       "63434    None\n",
       "63435    None\n",
       "63436    None\n",
       "63437    None\n",
       "Name: word, Length: 63438, dtype: object"
      ]
     },
     "execution_count": 47,
     "metadata": {},
     "output_type": "execute_result"
    }
   ],
   "source": [
    "df.word.apply(add_char)"
   ]
  },
  {
   "cell_type": "code",
   "execution_count": 49,
   "id": "f6ea68f9",
   "metadata": {
    "scrolled": true
   },
   "outputs": [
    {
     "data": {
      "text/plain": [
       "id\n",
       "0        None\n",
       "1        None\n",
       "2        None\n",
       "3        None\n",
       "4        None\n",
       "         ... \n",
       "63433    None\n",
       "63434    None\n",
       "63435    None\n",
       "63436    None\n",
       "63437    None\n",
       "Name: lemma, Length: 63438, dtype: object"
      ]
     },
     "execution_count": 49,
     "metadata": {},
     "output_type": "execute_result"
    }
   ],
   "source": [
    "df.lemma.apply(add_char)"
   ]
  },
  {
   "cell_type": "code",
   "execution_count": 50,
   "id": "60775271",
   "metadata": {
    "scrolled": true
   },
   "outputs": [
    {
     "data": {
      "text/plain": [
       "{'а',\n",
       " 'б',\n",
       " 'в',\n",
       " 'г',\n",
       " 'д',\n",
       " 'е',\n",
       " 'ж',\n",
       " 'з',\n",
       " 'и',\n",
       " 'й',\n",
       " 'к',\n",
       " 'л',\n",
       " 'м',\n",
       " 'н',\n",
       " 'о',\n",
       " 'п',\n",
       " 'р',\n",
       " 'с',\n",
       " 'т',\n",
       " 'у',\n",
       " 'ф',\n",
       " 'х',\n",
       " 'ц',\n",
       " 'ч',\n",
       " 'ш',\n",
       " 'щ',\n",
       " 'ъ',\n",
       " 'ы',\n",
       " 'ь',\n",
       " 'э',\n",
       " 'ю',\n",
       " 'я',\n",
       " 'ё'}"
      ]
     },
     "execution_count": 50,
     "metadata": {},
     "output_type": "execute_result"
    }
   ],
   "source": [
    "alphabeth"
   ]
  },
  {
   "cell_type": "code",
   "execution_count": 55,
   "id": "3f3f768c",
   "metadata": {},
   "outputs": [
    {
     "data": {
      "text/plain": [
       "33"
      ]
     },
     "execution_count": 55,
     "metadata": {},
     "output_type": "execute_result"
    }
   ],
   "source": [
    "len(alphabeth)"
   ]
  },
  {
   "cell_type": "markdown",
   "id": "32a1f69f",
   "metadata": {},
   "source": [
    "Можно будет добавить один знак на случай, если в тестовой выборке будут неизвестные символы"
   ]
  },
  {
   "cell_type": "markdown",
   "id": "036855d5",
   "metadata": {},
   "source": [
    "### Максимальная длина слова"
   ]
  },
  {
   "cell_type": "code",
   "execution_count": 53,
   "id": "66c384d2",
   "metadata": {
    "scrolled": true
   },
   "outputs": [
    {
     "data": {
      "text/plain": [
       "20"
      ]
     },
     "execution_count": 53,
     "metadata": {},
     "output_type": "execute_result"
    }
   ],
   "source": [
    "df.word.apply(len).max()"
   ]
  },
  {
   "cell_type": "code",
   "execution_count": 54,
   "id": "6bca0dfb",
   "metadata": {
    "scrolled": true
   },
   "outputs": [
    {
     "data": {
      "text/plain": [
       "20"
      ]
     },
     "execution_count": 54,
     "metadata": {},
     "output_type": "execute_result"
    }
   ],
   "source": [
    "df.lemma.apply(len).max()"
   ]
  },
  {
   "cell_type": "markdown",
   "id": "e0c9be86",
   "metadata": {},
   "source": [
    "Можно взять с запасом и использовать padding"
   ]
  },
  {
   "cell_type": "markdown",
   "id": "5abc2ac0",
   "metadata": {},
   "source": [
    "# То же для тестовой выборки"
   ]
  },
  {
   "cell_type": "code",
   "execution_count": 57,
   "id": "5892c1e3",
   "metadata": {},
   "outputs": [
    {
     "data": {
      "text/html": [
       "<div>\n",
       "<style scoped>\n",
       "    .dataframe tbody tr th:only-of-type {\n",
       "        vertical-align: middle;\n",
       "    }\n",
       "\n",
       "    .dataframe tbody tr th {\n",
       "        vertical-align: top;\n",
       "    }\n",
       "\n",
       "    .dataframe thead th {\n",
       "        text-align: right;\n",
       "    }\n",
       "</style>\n",
       "<table border=\"1\" class=\"dataframe\">\n",
       "  <thead>\n",
       "    <tr style=\"text-align: right;\">\n",
       "      <th></th>\n",
       "      <th>word</th>\n",
       "      <th>num_syllables</th>\n",
       "      <th>lemma</th>\n",
       "    </tr>\n",
       "    <tr>\n",
       "      <th>id</th>\n",
       "      <th></th>\n",
       "      <th></th>\n",
       "      <th></th>\n",
       "    </tr>\n",
       "  </thead>\n",
       "  <tbody>\n",
       "    <tr>\n",
       "      <th>0</th>\n",
       "      <td>эпилепсия</td>\n",
       "      <td>5</td>\n",
       "      <td>эпилепсия</td>\n",
       "    </tr>\n",
       "    <tr>\n",
       "      <th>1</th>\n",
       "      <td>относящейся</td>\n",
       "      <td>5</td>\n",
       "      <td>относиться</td>\n",
       "    </tr>\n",
       "    <tr>\n",
       "      <th>2</th>\n",
       "      <td>размышлениями</td>\n",
       "      <td>6</td>\n",
       "      <td>размышление</td>\n",
       "    </tr>\n",
       "    <tr>\n",
       "      <th>3</th>\n",
       "      <td>модемы</td>\n",
       "      <td>3</td>\n",
       "      <td>модем</td>\n",
       "    </tr>\n",
       "    <tr>\n",
       "      <th>4</th>\n",
       "      <td>солнц</td>\n",
       "      <td>1</td>\n",
       "      <td>солнце</td>\n",
       "    </tr>\n",
       "    <tr>\n",
       "      <th>...</th>\n",
       "      <td>...</td>\n",
       "      <td>...</td>\n",
       "      <td>...</td>\n",
       "    </tr>\n",
       "    <tr>\n",
       "      <th>29955</th>\n",
       "      <td>донбасса</td>\n",
       "      <td>3</td>\n",
       "      <td>донбасс</td>\n",
       "    </tr>\n",
       "    <tr>\n",
       "      <th>29956</th>\n",
       "      <td>обложка</td>\n",
       "      <td>3</td>\n",
       "      <td>обложка</td>\n",
       "    </tr>\n",
       "    <tr>\n",
       "      <th>29957</th>\n",
       "      <td>правителя</td>\n",
       "      <td>4</td>\n",
       "      <td>правитель</td>\n",
       "    </tr>\n",
       "    <tr>\n",
       "      <th>29958</th>\n",
       "      <td>шерстяной</td>\n",
       "      <td>3</td>\n",
       "      <td>шерстяной</td>\n",
       "    </tr>\n",
       "    <tr>\n",
       "      <th>29959</th>\n",
       "      <td>оптимизации</td>\n",
       "      <td>6</td>\n",
       "      <td>оптимизация</td>\n",
       "    </tr>\n",
       "  </tbody>\n",
       "</table>\n",
       "<p>29960 rows × 3 columns</p>\n",
       "</div>"
      ],
      "text/plain": [
       "                word  num_syllables        lemma\n",
       "id                                              \n",
       "0          эпилепсия              5    эпилепсия\n",
       "1        относящейся              5   относиться\n",
       "2      размышлениями              6  размышление\n",
       "3             модемы              3        модем\n",
       "4              солнц              1       солнце\n",
       "...              ...            ...          ...\n",
       "29955       донбасса              3      донбасс\n",
       "29956        обложка              3      обложка\n",
       "29957      правителя              4    правитель\n",
       "29958      шерстяной              3    шерстяной\n",
       "29959    оптимизации              6  оптимизация\n",
       "\n",
       "[29960 rows x 3 columns]"
      ]
     },
     "execution_count": 57,
     "metadata": {},
     "output_type": "execute_result"
    }
   ],
   "source": [
    "df = pd.read_csv('test.csv', index_col='id'); df"
   ]
  },
  {
   "cell_type": "code",
   "execution_count": 58,
   "id": "5040c4fd",
   "metadata": {},
   "outputs": [
    {
     "data": {
      "text/plain": [
       "word             0\n",
       "num_syllables    0\n",
       "lemma            0\n",
       "dtype: int64"
      ]
     },
     "execution_count": 58,
     "metadata": {},
     "output_type": "execute_result"
    }
   ],
   "source": [
    "df.isna().sum()"
   ]
  },
  {
   "cell_type": "markdown",
   "id": "627ffdc5",
   "metadata": {},
   "source": [
    "### Набор символов"
   ]
  },
  {
   "cell_type": "code",
   "execution_count": 59,
   "id": "19ecde0e",
   "metadata": {},
   "outputs": [],
   "source": [
    "alphabeth = set()"
   ]
  },
  {
   "cell_type": "code",
   "execution_count": 60,
   "id": "e2b532c3",
   "metadata": {
    "scrolled": true
   },
   "outputs": [
    {
     "data": {
      "text/plain": [
       "id\n",
       "0        None\n",
       "1        None\n",
       "2        None\n",
       "3        None\n",
       "4        None\n",
       "         ... \n",
       "29955    None\n",
       "29956    None\n",
       "29957    None\n",
       "29958    None\n",
       "29959    None\n",
       "Name: word, Length: 29960, dtype: object"
      ]
     },
     "execution_count": 60,
     "metadata": {},
     "output_type": "execute_result"
    }
   ],
   "source": [
    "df.word.apply(add_char)"
   ]
  },
  {
   "cell_type": "code",
   "execution_count": 61,
   "id": "0752fee5",
   "metadata": {
    "scrolled": true
   },
   "outputs": [
    {
     "data": {
      "text/plain": [
       "{'а',\n",
       " 'б',\n",
       " 'в',\n",
       " 'г',\n",
       " 'д',\n",
       " 'е',\n",
       " 'ж',\n",
       " 'з',\n",
       " 'и',\n",
       " 'й',\n",
       " 'к',\n",
       " 'л',\n",
       " 'м',\n",
       " 'н',\n",
       " 'о',\n",
       " 'п',\n",
       " 'р',\n",
       " 'с',\n",
       " 'т',\n",
       " 'у',\n",
       " 'ф',\n",
       " 'х',\n",
       " 'ц',\n",
       " 'ч',\n",
       " 'ш',\n",
       " 'щ',\n",
       " 'ъ',\n",
       " 'ы',\n",
       " 'ь',\n",
       " 'э',\n",
       " 'ю',\n",
       " 'я',\n",
       " 'ё'}"
      ]
     },
     "execution_count": 61,
     "metadata": {},
     "output_type": "execute_result"
    }
   ],
   "source": [
    "alphabeth"
   ]
  },
  {
   "cell_type": "code",
   "execution_count": 62,
   "id": "83ef1434",
   "metadata": {},
   "outputs": [
    {
     "data": {
      "text/plain": [
       "33"
      ]
     },
     "execution_count": 62,
     "metadata": {},
     "output_type": "execute_result"
    }
   ],
   "source": [
    "len(alphabeth)"
   ]
  },
  {
   "cell_type": "markdown",
   "id": "f6240c72",
   "metadata": {},
   "source": [
    "### Максимальная длина слова"
   ]
  },
  {
   "cell_type": "code",
   "execution_count": 63,
   "id": "bc1afaf2",
   "metadata": {
    "scrolled": true
   },
   "outputs": [
    {
     "data": {
      "text/plain": [
       "19"
      ]
     },
     "execution_count": 63,
     "metadata": {},
     "output_type": "execute_result"
    }
   ],
   "source": [
    "df.word.apply(len).max()"
   ]
  },
  {
   "cell_type": "code",
   "execution_count": null,
   "id": "1fa7bf74",
   "metadata": {},
   "outputs": [],
   "source": []
  }
 ],
 "metadata": {
  "kernelspec": {
   "display_name": "Python 3 (ipykernel)",
   "language": "python",
   "name": "python3"
  },
  "language_info": {
   "codemirror_mode": {
    "name": "ipython",
    "version": 3
   },
   "file_extension": ".py",
   "mimetype": "text/x-python",
   "name": "python",
   "nbconvert_exporter": "python",
   "pygments_lexer": "ipython3",
   "version": "3.11.2"
  }
 },
 "nbformat": 4,
 "nbformat_minor": 5
}
